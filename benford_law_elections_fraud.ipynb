{
  "nbformat": 4,
  "nbformat_minor": 0,
  "metadata": {
    "colab": {
      "provenance": [],
      "collapsed_sections": [],
      "mount_file_id": "19TZEhOvY0HCLJUf576ewk80GddVf32ay",
      "authorship_tag": "ABX9TyNrEiewGxed+zmKnQFVsrjl",
      "include_colab_link": true
    },
    "kernelspec": {
      "name": "python3",
      "display_name": "Python 3"
    },
    "language_info": {
      "name": "python"
    }
  },
  "cells": [
    {
      "cell_type": "markdown",
      "metadata": {
        "id": "view-in-github",
        "colab_type": "text"
      },
      "source": [
        "<a href=\"https://colab.research.google.com/github/lucapqg/Statistic/blob/main/benford_law_elections_fraud.ipynb\" target=\"_parent\"><img src=\"https://colab.research.google.com/assets/colab-badge.svg\" alt=\"Open In Colab\"/></a>"
      ]
    },
    {
      "cell_type": "markdown",
      "source": [
        "<h1><strong>LEI DE NEWCOMB-BENFORD</strong></h1>\n",
        "\n",
        "\n",
        "Em meados de 1881, o astrônomo e matemático Simon Newcomb percebeu folheando em um livro de tabelas logarítmicas (nessa época não existia calculadoras científicas Casio) que as primeiras páginas eram muito mais gastas do que as últimas.\n",
        "Em seu artigo *Note on the Frequency of Use of the Different Digits in Natural Numbers* publicado na American Journal of Mathematics, ele diz: \n",
        " \n",
        "***Que os dez dígitos não ocorrem em frequências iguais, deve ser evidente para quem faz muito uso de tabelas logarítmicas, e percebe o quão mais rápido as primeiras páginas se desgastam do que as últimas. O primeiro algarismo significativo é mais frequente o 1 do que qualquer outro dígito, e a frequência diminui até o 9.***\n",
        " \n",
        "Já em 1993 o físico Frank Benford coletou diversos dados de diversas fontes diferentes como massas moleculares, áreas, constantes, cotações de ações da bolsa de valores, valores em revistas, contas e etc., e também evidenciou a constatação que Newcomb, a de que os números haviam uma distribuição não uniforme como intuitivamente costumamos achar, e sim bem definida na natureza.\n",
        " \n",
        "Isso o levou a formulação do modelo estatístico que hoje conhecemos por lei de Benford também conhecida como lei de Newcomb-Benford ou lei do primeiro dígito.\n"
      ],
      "metadata": {
        "id": "dwDDCl-skmIj"
      }
    },
    {
      "cell_type": "markdown",
      "source": [
        "\n",
        "\n",
        "<h1>$$P(d) = \\frac{\\lim(1+\\frac{1}{d})}{\\lim(10)}$$</h1>"
      ],
      "metadata": {
        "id": "mCWzewa9lFhp"
      }
    },
    {
      "cell_type": "markdown",
      "source": [
        "A lei Benford pode ser estendida às demais posições além do primeiro dígito, tendo a generalização da lei sendo a probabilidade de um número d, 0 > d> 9, ser encontrado na n-ésima posição. Essa probabilidade é dada como:\n",
        "\n",
        "\n",
        "<h1>$${\\displaystyle \\sum _{k=10^{n-2}}^{10^{n-1}-1}\\log _{10}\\left(1+{\\frac {1}{10k+d}}\\right)}$$</h1>\n"
      ],
      "metadata": {
        "id": "6uhQ7aik1d-f"
      }
    },
    {
      "cell_type": "markdown",
      "source": [
        "Uma das principais aplicações da lei de Newcomb-Benford é no ramo de fraudes \n",
        "fiscais, sendo possível observar a existência de comportamentos anômalos em uma distribuição. Existem também aplicações para estudos metabólicos, verificação de integridade de imagens e vídeos para saber se houve algum tipo de manipulação e alteração e muitas outras aplicações.\n"
      ],
      "metadata": {
        "id": "cIoIQQU8LwN8"
      }
    },
    {
      "cell_type": "code",
      "source": [
        "import numpy as np \n",
        "import pandas as pd\n",
        "import warnings\n",
        "import matplotlib.pyplot as plt\n",
        "from scipy.stats import chi2\n",
        "from statsmodels.stats.power import GofChisquarePower\n",
        "import math\n",
        "\n",
        "plt.style.use('ggplot')\n",
        "warnings.filterwarnings('ignore')"
      ],
      "metadata": {
        "id": "mZ7AszjTeopN"
      },
      "execution_count": 174,
      "outputs": []
    },
    {
      "cell_type": "markdown",
      "source": [
        "# **Eleições**"
      ],
      "metadata": {
        "id": "oPMniUQAi_5b"
      }
    },
    {
      "cell_type": "markdown",
      "source": [
        "Neste tutorial iremos demonstrar o uso do modelo teorizado por Benford aplicado a fraudes eleitorais, utilizando as bases de dados das eleições presidenciais na Rússia em 2018 e das eleições presidenciais no Brasil em 2022."
      ],
      "metadata": {
        "id": "KPm6XszbD5eG"
      }
    },
    {
      "cell_type": "markdown",
      "source": [
        "><h2><strong>Rússia</strong></h2>"
      ],
      "metadata": {
        "id": "AOGiRCyUEXiT"
      }
    },
    {
      "cell_type": "code",
      "source": [
        "df = pd.read_parquet('/content/drive/MyDrive/GitHub/benford-law/archive/voting_russ_2018.parquet')\n",
        "df.head(3)"
      ],
      "metadata": {
        "colab": {
          "base_uri": "https://localhost:8080/",
          "height": 407
        },
        "id": "2WiguY27yImg",
        "outputId": "66dd950c-1cb5-4522-a3c2-746d315cde96"
      },
      "execution_count": 175,
      "outputs": [
        {
          "output_type": "execute_result",
          "data": {
            "text/plain": [
              "          region_name   subregion_name  Baburin Sergei Nikolaevich  \\\n",
              "ps_id                                                                \n",
              "713    Altajskij kraj  Bystroistokskaa                           1   \n",
              "714    Altajskij kraj  Bystroistokskaa                           4   \n",
              "715    Altajskij kraj  Bystroistokskaa                           3   \n",
              "\n",
              "       Grudinin Pavel Nikolaevich  Zhirinovskiy Vladimir Volfovich  \\\n",
              "ps_id                                                                \n",
              "713                           109                               42   \n",
              "714                            27                               27   \n",
              "715                           100                               47   \n",
              "\n",
              "       Putin Vladimir Vladimirovich  Sobchak Ksenia Anatolyevna  \\\n",
              "ps_id                                                             \n",
              "713                             398                           2   \n",
              "714                             199                           0   \n",
              "715                             325                           2   \n",
              "\n",
              "       Suraikin Maksim Aleksandrovich  Titov Boris Yurievich  \\\n",
              "ps_id                                                          \n",
              "713                                 3                      0   \n",
              "714                                 3                      0   \n",
              "715                                 1                      2   \n",
              "\n",
              "       Yavlinskiy Gregory Alekseivich  ...  Number of voters enlisted  \\\n",
              "ps_id                                  ...                              \n",
              "713                                 0  ...                        815   \n",
              "714                                 0  ...                        355   \n",
              "715                                 1  ...                        812   \n",
              "\n",
              "       Number of ballot papers in portable ballot boxes  \\\n",
              "ps_id                                                     \n",
              "713                                                 139   \n",
              "714                                                  38   \n",
              "715                                                  63   \n",
              "\n",
              "       Number of ballot papers given inside the polling station  \\\n",
              "ps_id                                                             \n",
              "713                                                  421          \n",
              "714                                                  224          \n",
              "715                                                  424          \n",
              "\n",
              "       Number of ballot papers given outside the polling station  \\\n",
              "ps_id                                                              \n",
              "713                                                  139           \n",
              "714                                                   38           \n",
              "715                                                   63           \n",
              "\n",
              "       Number of ballot papers given for advance voting  \\\n",
              "ps_id                                                     \n",
              "713                                                   0   \n",
              "714                                                   0   \n",
              "715                                                   0   \n",
              "\n",
              "       Number of excessive ballot papers  \\\n",
              "ps_id                                      \n",
              "713                                    0   \n",
              "714                                    0   \n",
              "715                                    0   \n",
              "\n",
              "       Number of ballot papers acquired at the polling station  \\\n",
              "ps_id                                                            \n",
              "713                                                  750         \n",
              "714                                                  350         \n",
              "715                                                  750         \n",
              "\n",
              "       Number of invalid ballot papers  Number of unused ballot papers  \\\n",
              "ps_id                                                                    \n",
              "713                                  5                             190   \n",
              "714                                  2                              88   \n",
              "715                                  6                             263   \n",
              "\n",
              "       Number of lost ballot papers  \n",
              "ps_id                                \n",
              "713                               0  \n",
              "714                               0  \n",
              "715                               0  \n",
              "\n",
              "[3 rows x 22 columns]"
            ],
            "text/html": [
              "\n",
              "  <div id=\"df-456311f8-9998-4df0-8105-a7c7813be951\">\n",
              "    <div class=\"colab-df-container\">\n",
              "      <div>\n",
              "<style scoped>\n",
              "    .dataframe tbody tr th:only-of-type {\n",
              "        vertical-align: middle;\n",
              "    }\n",
              "\n",
              "    .dataframe tbody tr th {\n",
              "        vertical-align: top;\n",
              "    }\n",
              "\n",
              "    .dataframe thead th {\n",
              "        text-align: right;\n",
              "    }\n",
              "</style>\n",
              "<table border=\"1\" class=\"dataframe\">\n",
              "  <thead>\n",
              "    <tr style=\"text-align: right;\">\n",
              "      <th></th>\n",
              "      <th>region_name</th>\n",
              "      <th>subregion_name</th>\n",
              "      <th>Baburin Sergei Nikolaevich</th>\n",
              "      <th>Grudinin Pavel Nikolaevich</th>\n",
              "      <th>Zhirinovskiy Vladimir Volfovich</th>\n",
              "      <th>Putin Vladimir Vladimirovich</th>\n",
              "      <th>Sobchak Ksenia Anatolyevna</th>\n",
              "      <th>Suraikin Maksim Aleksandrovich</th>\n",
              "      <th>Titov Boris Yurievich</th>\n",
              "      <th>Yavlinskiy Gregory Alekseivich</th>\n",
              "      <th>...</th>\n",
              "      <th>Number of voters enlisted</th>\n",
              "      <th>Number of ballot papers in portable ballot boxes</th>\n",
              "      <th>Number of ballot papers given inside the polling station</th>\n",
              "      <th>Number of ballot papers given outside the polling station</th>\n",
              "      <th>Number of ballot papers given for advance voting</th>\n",
              "      <th>Number of excessive ballot papers</th>\n",
              "      <th>Number of ballot papers acquired at the polling station</th>\n",
              "      <th>Number of invalid ballot papers</th>\n",
              "      <th>Number of unused ballot papers</th>\n",
              "      <th>Number of lost ballot papers</th>\n",
              "    </tr>\n",
              "    <tr>\n",
              "      <th>ps_id</th>\n",
              "      <th></th>\n",
              "      <th></th>\n",
              "      <th></th>\n",
              "      <th></th>\n",
              "      <th></th>\n",
              "      <th></th>\n",
              "      <th></th>\n",
              "      <th></th>\n",
              "      <th></th>\n",
              "      <th></th>\n",
              "      <th></th>\n",
              "      <th></th>\n",
              "      <th></th>\n",
              "      <th></th>\n",
              "      <th></th>\n",
              "      <th></th>\n",
              "      <th></th>\n",
              "      <th></th>\n",
              "      <th></th>\n",
              "      <th></th>\n",
              "      <th></th>\n",
              "    </tr>\n",
              "  </thead>\n",
              "  <tbody>\n",
              "    <tr>\n",
              "      <th>713</th>\n",
              "      <td>Altajskij kraj</td>\n",
              "      <td>Bystroistokskaa</td>\n",
              "      <td>1</td>\n",
              "      <td>109</td>\n",
              "      <td>42</td>\n",
              "      <td>398</td>\n",
              "      <td>2</td>\n",
              "      <td>3</td>\n",
              "      <td>0</td>\n",
              "      <td>0</td>\n",
              "      <td>...</td>\n",
              "      <td>815</td>\n",
              "      <td>139</td>\n",
              "      <td>421</td>\n",
              "      <td>139</td>\n",
              "      <td>0</td>\n",
              "      <td>0</td>\n",
              "      <td>750</td>\n",
              "      <td>5</td>\n",
              "      <td>190</td>\n",
              "      <td>0</td>\n",
              "    </tr>\n",
              "    <tr>\n",
              "      <th>714</th>\n",
              "      <td>Altajskij kraj</td>\n",
              "      <td>Bystroistokskaa</td>\n",
              "      <td>4</td>\n",
              "      <td>27</td>\n",
              "      <td>27</td>\n",
              "      <td>199</td>\n",
              "      <td>0</td>\n",
              "      <td>3</td>\n",
              "      <td>0</td>\n",
              "      <td>0</td>\n",
              "      <td>...</td>\n",
              "      <td>355</td>\n",
              "      <td>38</td>\n",
              "      <td>224</td>\n",
              "      <td>38</td>\n",
              "      <td>0</td>\n",
              "      <td>0</td>\n",
              "      <td>350</td>\n",
              "      <td>2</td>\n",
              "      <td>88</td>\n",
              "      <td>0</td>\n",
              "    </tr>\n",
              "    <tr>\n",
              "      <th>715</th>\n",
              "      <td>Altajskij kraj</td>\n",
              "      <td>Bystroistokskaa</td>\n",
              "      <td>3</td>\n",
              "      <td>100</td>\n",
              "      <td>47</td>\n",
              "      <td>325</td>\n",
              "      <td>2</td>\n",
              "      <td>1</td>\n",
              "      <td>2</td>\n",
              "      <td>1</td>\n",
              "      <td>...</td>\n",
              "      <td>812</td>\n",
              "      <td>63</td>\n",
              "      <td>424</td>\n",
              "      <td>63</td>\n",
              "      <td>0</td>\n",
              "      <td>0</td>\n",
              "      <td>750</td>\n",
              "      <td>6</td>\n",
              "      <td>263</td>\n",
              "      <td>0</td>\n",
              "    </tr>\n",
              "  </tbody>\n",
              "</table>\n",
              "<p>3 rows × 22 columns</p>\n",
              "</div>\n",
              "      <button class=\"colab-df-convert\" onclick=\"convertToInteractive('df-456311f8-9998-4df0-8105-a7c7813be951')\"\n",
              "              title=\"Convert this dataframe to an interactive table.\"\n",
              "              style=\"display:none;\">\n",
              "        \n",
              "  <svg xmlns=\"http://www.w3.org/2000/svg\" height=\"24px\"viewBox=\"0 0 24 24\"\n",
              "       width=\"24px\">\n",
              "    <path d=\"M0 0h24v24H0V0z\" fill=\"none\"/>\n",
              "    <path d=\"M18.56 5.44l.94 2.06.94-2.06 2.06-.94-2.06-.94-.94-2.06-.94 2.06-2.06.94zm-11 1L8.5 8.5l.94-2.06 2.06-.94-2.06-.94L8.5 2.5l-.94 2.06-2.06.94zm10 10l.94 2.06.94-2.06 2.06-.94-2.06-.94-.94-2.06-.94 2.06-2.06.94z\"/><path d=\"M17.41 7.96l-1.37-1.37c-.4-.4-.92-.59-1.43-.59-.52 0-1.04.2-1.43.59L10.3 9.45l-7.72 7.72c-.78.78-.78 2.05 0 2.83L4 21.41c.39.39.9.59 1.41.59.51 0 1.02-.2 1.41-.59l7.78-7.78 2.81-2.81c.8-.78.8-2.07 0-2.86zM5.41 20L4 18.59l7.72-7.72 1.47 1.35L5.41 20z\"/>\n",
              "  </svg>\n",
              "      </button>\n",
              "      \n",
              "  <style>\n",
              "    .colab-df-container {\n",
              "      display:flex;\n",
              "      flex-wrap:wrap;\n",
              "      gap: 12px;\n",
              "    }\n",
              "\n",
              "    .colab-df-convert {\n",
              "      background-color: #E8F0FE;\n",
              "      border: none;\n",
              "      border-radius: 50%;\n",
              "      cursor: pointer;\n",
              "      display: none;\n",
              "      fill: #1967D2;\n",
              "      height: 32px;\n",
              "      padding: 0 0 0 0;\n",
              "      width: 32px;\n",
              "    }\n",
              "\n",
              "    .colab-df-convert:hover {\n",
              "      background-color: #E2EBFA;\n",
              "      box-shadow: 0px 1px 2px rgba(60, 64, 67, 0.3), 0px 1px 3px 1px rgba(60, 64, 67, 0.15);\n",
              "      fill: #174EA6;\n",
              "    }\n",
              "\n",
              "    [theme=dark] .colab-df-convert {\n",
              "      background-color: #3B4455;\n",
              "      fill: #D2E3FC;\n",
              "    }\n",
              "\n",
              "    [theme=dark] .colab-df-convert:hover {\n",
              "      background-color: #434B5C;\n",
              "      box-shadow: 0px 1px 3px 1px rgba(0, 0, 0, 0.15);\n",
              "      filter: drop-shadow(0px 1px 2px rgba(0, 0, 0, 0.3));\n",
              "      fill: #FFFFFF;\n",
              "    }\n",
              "  </style>\n",
              "\n",
              "      <script>\n",
              "        const buttonEl =\n",
              "          document.querySelector('#df-456311f8-9998-4df0-8105-a7c7813be951 button.colab-df-convert');\n",
              "        buttonEl.style.display =\n",
              "          google.colab.kernel.accessAllowed ? 'block' : 'none';\n",
              "\n",
              "        async function convertToInteractive(key) {\n",
              "          const element = document.querySelector('#df-456311f8-9998-4df0-8105-a7c7813be951');\n",
              "          const dataTable =\n",
              "            await google.colab.kernel.invokeFunction('convertToInteractive',\n",
              "                                                     [key], {});\n",
              "          if (!dataTable) return;\n",
              "\n",
              "          const docLinkHtml = 'Like what you see? Visit the ' +\n",
              "            '<a target=\"_blank\" href=https://colab.research.google.com/notebooks/data_table.ipynb>data table notebook</a>'\n",
              "            + ' to learn more about interactive tables.';\n",
              "          element.innerHTML = '';\n",
              "          dataTable['output_type'] = 'display_data';\n",
              "          await google.colab.output.renderOutput(dataTable, element);\n",
              "          const docLink = document.createElement('div');\n",
              "          docLink.innerHTML = docLinkHtml;\n",
              "          element.appendChild(docLink);\n",
              "        }\n",
              "      </script>\n",
              "    </div>\n",
              "  </div>\n",
              "  "
            ]
          },
          "metadata": {},
          "execution_count": 175
        }
      ]
    },
    {
      "cell_type": "markdown",
      "source": [
        "Primeiro iremos pegar a coluna da contagem de votos em Putin (que estranhamente está há mais de 20 anos no poder de forma ''democrática'') e iremos separar o primeiro dígito dos numerais maiores ou iguais a 10."
      ],
      "metadata": {
        "id": "EE5rpTMJxgzO"
      }
    },
    {
      "cell_type": "code",
      "source": [
        "column = 'Putin Vladimir Vladimirovich'\n",
        "# PRIMEIRO DIGITO\n",
        "first = df[column].apply(lambda x: int(str(x)[0]))"
      ],
      "metadata": {
        "id": "pJrJvrffyqmm"
      },
      "execution_count": 176,
      "outputs": []
    },
    {
      "cell_type": "markdown",
      "source": [
        "Faremos a contagem de cada primeiro dígito e a porcentagem que cada um representa na distribuição de votos."
      ],
      "metadata": {
        "id": "5dJkDiTJytnT"
      }
    },
    {
      "cell_type": "code",
      "source": [
        "# CONTAGEM \n",
        "observed_values =  (first.value_counts()\n",
        "                         .sort_index(ascending=True)\n",
        "                         .to_numpy())\n",
        "# TOTAL \n",
        "total_observed = observed_values.sum()\n",
        "\n",
        "print(f'Values:{observed_values}')\n",
        "\n",
        "# PORCENTAGEM DOS DADOS OBSERVADOS\n",
        "observed_p = (observed_values/total_observed)\n",
        "print(f'Percent:{observed_p}')"
      ],
      "metadata": {
        "colab": {
          "base_uri": "https://localhost:8080/",
          "height": 0
        },
        "id": "BAmDcVumLNvb",
        "outputId": "c12fbb2e-c2c4-4419-b7dc-900ce7a248cf"
      },
      "execution_count": 177,
      "outputs": [
        {
          "output_type": "stream",
          "name": "stdout",
          "text": [
            "Values:[    2 28368 10761  8182  7610  7781  8196  8252  8002  7333]\n",
            "Percent:[2.11669330e-05 3.00231778e-01 1.13888683e-01 8.65939230e-02\n",
            " 8.05401801e-02 8.23499529e-02 8.67420915e-02 8.73347656e-02\n",
            " 8.46888990e-02 7.76085599e-02]\n"
          ]
        }
      ]
    },
    {
      "cell_type": "markdown",
      "source": [
        "Agora iremos aplicar a fórmula de Benford  para obtermos as distribuições de probabilidade de cada dígito e que também pode ser simplificada para:\n",
        "<h1>$$P(d) = log{_{10}}(1+\\frac{1}{d})$$</h1>\n",
        " \n",
        " \n",
        " \n",
        "Também iremos aplicar a distribuição ao total observado das contagens de cada dígito para obtermos os valores esperados de acordo com a lei de benford.\n"
      ],
      "metadata": {
        "id": "4HqVV7sHh_JW"
      }
    },
    {
      "cell_type": "code",
      "source": [
        "# DISTRIBUIÇÃO DE BENFORD\n",
        "expected_p = [np.log10(1+1.0/d) for d in range(1,10)]\n",
        "\n",
        "# VALORES ESPERADOS DE ACORDO COM A DISTRIBUIÇÃO DE BENFORD\n",
        "expected_values = [round((p * total_observed)) for p in expected_p]\n",
        "print(f'Values:{expected_values}')\n",
        "print(f'Percent:{expected_p}')"
      ],
      "metadata": {
        "colab": {
          "base_uri": "https://localhost:8080/",
          "height": 0
        },
        "id": "w46JBSfg25Mf",
        "outputId": "f1d2b1c0-470b-48a3-8d02-bd4b713369a6"
      },
      "execution_count": 178,
      "outputs": [
        {
          "output_type": "stream",
          "name": "stdout",
          "text": [
            "Values:[28443, 16638, 11805, 9157, 7482, 6326, 5479, 4833, 4323]\n",
            "Percent:[0.3010299956639812, 0.17609125905568124, 0.12493873660829992, 0.09691001300805642, 0.07918124604762482, 0.06694678963061322, 0.05799194697768673, 0.05115252244738129, 0.04575749056067514]\n"
          ]
        }
      ]
    },
    {
      "cell_type": "markdown",
      "source": [
        "Para testar nossas hipóteses, iremos utilizar o teste de qui quadrado. Sabendo que o teste de qui é sensível ao tamanho das amostras e variabilidade, faremos a amostragem 20 vezes da nossa população de dígitos para reduzir a variabilidade e a chance de selecionar uma amostra que não seja representativa.\n",
        "\n",
        "Faremos cálculos de poder estatístico para um teste de qui-quadrado para saber o tamanho mínimo de nossas amostras, de acordo com os graus de liberdade e nível de significância.\n"
      ],
      "metadata": {
        "id": "vri_uHsxEHGP"
      }
    },
    {
      "cell_type": "code",
      "source": [
        "analysis = GofChisquarePower()\n",
        "\n",
        "total_amostras = 20\n",
        "effect_sizes = np.arange(0,1,0.1)\n",
        "sample_sizes = np.arange(5,200)\n",
        "alpha = 0.05\n",
        "power = 0.89\n",
        "\n",
        "\n",
        "n_chi = int(analysis.solve_power(effect_size=0.3,power=power, alpha=alpha,n_bins=8))\n",
        "power_chi = analysis.solve_power(effect_size=0.3,power=None, alpha=alpha,nobs=n_chi,n_bins=8)\n",
        "\n",
        "deg_f = 9-1\n",
        "sig = 0.05\n",
        "valor_critico_chi_1 = chi2.ppf(1-sig, 8) # VALOR CRITICO PARA O PRIMEIRO DIGITO \n",
        "valor_critico_chi_2 = chi2.ppf(1-sig, 9) # VALOR CRITICO PARA O SEGUNDO DIGITO \n",
        "\n",
        "print(f\"\"\"\n",
        "  POWER:{power_chi}\n",
        "  SIZE: {n_chi}\n",
        "  Critical value at a P-value of 0.05 is {valor_critico_chi_1} to the first digit\n",
        "  Critical value at a P-value of 0.05 is {valor_critico_chi_2} to the second digit\n",
        "  \n",
        "\"\"\")\n",
        "\n",
        "analysis.plot_power(dep_var='nobs', nobs=sample_sizes, effect_size=effect_sizes,n_bins=8)\n",
        "plt.show()"
      ],
      "metadata": {
        "id": "LNApOLaGgu9C",
        "colab": {
          "base_uri": "https://localhost:8080/",
          "height": 421
        },
        "outputId": "3958e565-bb95-45d0-a2da-7a5ce6deb8b2"
      },
      "execution_count": 179,
      "outputs": [
        {
          "output_type": "stream",
          "name": "stdout",
          "text": [
            "\n",
            "  POWER:0.8892008620847722\n",
            "  SIZE: 197\n",
            "  Critical value at a P-value of 0.05 is 15.50731305586545 to the first digit\n",
            "  Critical value at a P-value of 0.05 is 16.918977604620448 to the second digit\n",
            "  \n",
            "\n"
          ]
        },
        {
          "output_type": "display_data",
          "data": {
            "text/plain": [
              "<Figure size 432x288 with 1 Axes>"
            ],
            "image/png": "[encoded data removed]"
          },
          "metadata": {}
        }
      ]
    },
    {
      "cell_type": "markdown",
      "source": [
        "> **Função de Qui-quadrado**\n",
        "\n",
        "\n",
        "• Se **χ2** calculado ≥ **χ2** crítico: Rejeita-se a hipótese nula (existência de fraude).\n",
        "\n",
        "• Se **χ2** calculado < **χ2** crítico: Aceita-se a hipótese nula (não existência de fraude)."
      ],
      "metadata": {
        "id": "XOa2u9ZZzEQ_"
      }
    },
    {
      "cell_type": "code",
      "source": [
        "def chi_square_test(data_count,expected_counts,ddof=8,sig=0.05):\n",
        "    \"\"\"Return statistics values on chi-square test (8 degrees of freedom & P-val=0.05).\"\"\"\n",
        "    chi_square_stat = 0  # chi square test statistic\n",
        "    for data, expected in zip(data_count,expected_counts):\n",
        "\n",
        "        chi_square = math.pow(data - expected,2)\n",
        "\n",
        "        chi_square_stat += chi_square / expected\n",
        "\n",
        "    p_value = chi2.sf(x=chi_square_stat,df=ddof)\n",
        "\n",
        "    return chi_square_stat,p_value"
      ],
      "metadata": {
        "id": "PkyPmrOCfsx0"
      },
      "execution_count": 180,
      "outputs": []
    },
    {
      "cell_type": "markdown",
      "source": [
        "Criaremos uma função para aplicar e avalliar o modelo de Newcomb-Benford.\n",
        "\n",
        "\n"
      ],
      "metadata": {
        "id": "ela5wVcbHrp9"
      }
    },
    {
      "cell_type": "code",
      "source": [
        "def newcomb_benford(x,percent = False,ddof = 8,chi_test=False,digit=1):\n",
        "\n",
        "  digits ,observed_values = np.unique(x, return_counts=True)\n",
        "\n",
        "  if digit == 1:\n",
        "    observed_values = observed_values[1:]\n",
        "\n",
        "  total_observed = np.sum(observed_values) # FREQUENCIA TOTAL OBSERVADA\n",
        "  observed_p = (observed_values/total_observed) # PERCENTUAL DE FREQUENCIA OBSERVADA\n",
        "\n",
        "  if digit == 1: # PRIMEIRO DIGITO\n",
        "    expected_p = [np.log10(1+1.0/d) for d in range(1,10)]\n",
        "    expected_values = [round((p * total_observed)) for p in expected_p]\n",
        "  else: # GENERALIZAÇÃO \n",
        "    N = digit\n",
        "    ini = 10**(N-2)\n",
        "    end = 10**(N-1) - 1\n",
        "    \n",
        "    bfg = (lambda D,ini,end: np.sum([np.log10(1 + 1/(10*K+D)) for K in range(ini,end+1,1)]))\n",
        "    expected_p = [bfg(i,ini,end)for i in range(0,10)]\n",
        "    expected_values = [round((p * total_observed)) for p in expected_p]\n",
        "\n",
        "  if chi_test:\n",
        "    return chi_square_test(observed_values,expected_values,ddof=ddof)\n",
        "  if percent:\n",
        "    return observed_p,expected_p\n",
        "  else:\n",
        "    return observed_values,expected_values"
      ],
      "metadata": {
        "id": "F-kBXbucQpIU"
      },
      "execution_count": 181,
      "outputs": []
    },
    {
      "cell_type": "markdown",
      "source": [
        ">**Dígitos**"
      ],
      "metadata": {
        "id": "yFLEGsTR5ye8"
      }
    },
    {
      "cell_type": "code",
      "source": [
        "first = df[column].apply(lambda x: int(str(x)[0]))\n",
        "second = df.loc[df[column]>=10,column].apply(lambda x: int(str(x)[1]))"
      ],
      "metadata": {
        "id": "T3QwZmhrdspo"
      },
      "execution_count": 182,
      "outputs": []
    },
    {
      "cell_type": "markdown",
      "source": [
        ">**Benford**\n",
        "\n",
        "Graficamente o comportamento observado dos primeiros e segundos dígitos em relação as frequências esperadas não parecem satisfazer modelo."
      ],
      "metadata": {
        "id": "y28wSN4k4RlA"
      }
    },
    {
      "cell_type": "code",
      "source": [
        "observed_p_2, expected_p_2 = newcomb_benford(second,percent = True,ddof = 9,digit=2)\n",
        "\n",
        "observed_p_1, expected_p_1 = newcomb_benford(first,percent = True)\n",
        "\n",
        "x = np.arange(1,10)\n",
        "fig, ax  = plt.subplots(1,2,figsize=(15,5))\n",
        "ax[0].plot(x,expected_p_1,color='red',marker='o',label='esperado (benford)')\n",
        "ax[0].bar(x,observed_p_1,color='#4682B4',label='observado')\n",
        "ax[0].set_title('Newcomb-Benford primeiro digito, Eleições Brasil 1° turno (Putin)')\n",
        "ax[0].set_ylabel('Frequencia(%)')\n",
        "ax[0].set_xlabel('Digito')\n",
        "ax[0].set_xticks(x)\n",
        "ax[0].set_yticklabels(np.round(ax[0].get_yticks(),2), weight='bold')\n",
        "ax[0].set_xticklabels(ax[0].get_xticks(),  weight='bold')\n",
        "ax[0].legend()\n",
        "\n",
        "x = np.arange(0,10)\n",
        "ax[1].plot(x,expected_p_2,color='red',marker='o',label='esperado (benford)')\n",
        "ax[1].bar(x,observed_p_2,color='#4682B4',label='observado')\n",
        "ax[1].set_title('Newcomb-Benford segundo digito, Eleições Brasil 1° turno (Putin)')\n",
        "ax[1].set_ylabel('Frequencia(%)')\n",
        "ax[1].set_xlabel('Digito')\n",
        "ax[1].set_xticks(x)\n",
        "ax[1].set_yticklabels(np.round(ax[1].get_yticks(),2), weight='bold')\n",
        "ax[1].set_xticklabels(ax[1].get_xticks(),  weight='bold')\n",
        "ax[1].legend()\n",
        "\n",
        "\n",
        "fig.tight_layout()"
      ],
      "metadata": {
        "colab": {
          "base_uri": "https://localhost:8080/",
          "height": 369
        },
        "id": "EBFQ531h1NcE",
        "outputId": "674fcbdc-7411-41a9-80ec-2b6ac2e27dde"
      },
      "execution_count": 183,
      "outputs": [
        {
          "output_type": "display_data",
          "data": {
            "text/plain": [
              "<Figure size 1080x360 with 2 Axes>"
            ],
            "image/png": "[encoded data removed]"
          },
          "metadata": {}
        }
      ]
    },
    {
      "cell_type": "markdown",
      "source": [
        ">**Teste de hipótese**"
      ],
      "metadata": {
        "id": "QhfkgIAFG63S"
      }
    },
    {
      "cell_type": "markdown",
      "source": [
        "Foi aplicado o teste de **qui-quadrado** e amostragem da população 20 vezes, para obter a média das estatísticas de X² e verificar se a distribuição dos primeiros e segundos dígitos seguem as frequências de Newcomb-Benford."
      ],
      "metadata": {
        "id": "R7F15KWf5Pj9"
      }
    },
    {
      "cell_type": "code",
      "source": [
        "# AMOSTRAGEM\n",
        "amostras_putin = pd.DataFrame()\n",
        "\n",
        "amostras_putin_1 = pd.concat([first.sample(n_chi).reset_index(drop=True) for _ in range(total_amostras)],axis=1,ignore_index=True)\n",
        "amostras_putin_2 = pd.concat([second.sample(n_chi).reset_index(drop=True) for _ in range(total_amostras)],axis=1,ignore_index=True)"
      ],
      "metadata": {
        "id": "5sKTlMAR-F0n"
      },
      "execution_count": 184,
      "outputs": []
    },
    {
      "cell_type": "code",
      "source": [
        "chi_putin = amostras_putin_1.apply(lambda amostra:newcomb_benford(amostra,chi_test = True)[0]).mean()\n",
        "\n",
        "print(f\"\"\"\n",
        "BENFORD LAW - PRIMEIRO DIGITO\n",
        "\n",
        "  PUTIN:\n",
        "  statistic = {chi_putin} \n",
        "  pvalue = {np.round(chi2.sf(x=chi_putin ,df=8),2)}\n",
        "\n",
        "(CRITICAL VALUE = {valor_critico_chi_1} PARA PVALUE=0.05)\n",
        "\"\"\")"
      ],
      "metadata": {
        "colab": {
          "base_uri": "https://localhost:8080/",
          "height": 0
        },
        "id": "GUBpR6GAfVKX",
        "outputId": "78bb7a70-1123-4063-a562-0cedbedc0131"
      },
      "execution_count": 185,
      "outputs": [
        {
          "output_type": "stream",
          "name": "stdout",
          "text": [
            "\n",
            "BENFORD LAW - PRIMEIRO DIGITO\n",
            "\n",
            "  PUTIN:\n",
            "  statistic = 52.179952805324206 \n",
            "  pvalue = 0.0\n",
            "\n",
            "(CRITICAL VALUE = 15.50731305586545 PARA PVALUE=0.05)\n",
            "\n"
          ]
        }
      ]
    },
    {
      "cell_type": "code",
      "source": [
        "# TESTE DE QUI QUADRADO\n",
        "\n",
        "chi_putin = amostras_putin_2.apply(lambda amostra:newcomb_benford(second,percent = True,ddof = 9,digit=2,chi_test = True)[0]).mean()\n",
        "\n",
        "print(f\"\"\"\n",
        "BENFORD LAW - SEGUNDO DIGITO\n",
        "\n",
        "  PUTIN:\n",
        "  statistic = {chi_putin} \n",
        "  pvalue = {np.round(chi2.sf(x=chi_putin ,df=8),2)}\n",
        "\n",
        "(CRITICAL VALUE = {valor_critico_chi_2} PARA PVALUE=0.05)\n",
        "\"\"\")\n"
      ],
      "metadata": {
        "colab": {
          "base_uri": "https://localhost:8080/",
          "height": 0
        },
        "id": "b7WO1PmhS3rH",
        "outputId": "ac9e8807-1262-429d-f48e-b73a5485c4fe"
      },
      "execution_count": 186,
      "outputs": [
        {
          "output_type": "stream",
          "name": "stdout",
          "text": [
            "\n",
            "BENFORD LAW - SEGUNDO DIGITO\n",
            "\n",
            "  PUTIN:\n",
            "  statistic = 611.367769325489 \n",
            "  pvalue = 0.0\n",
            "\n",
            "(CRITICAL VALUE = 16.918977604620448 PARA PVALUE=0.05)\n",
            "\n"
          ]
        }
      ]
    },
    {
      "cell_type": "markdown",
      "source": [
        "O resultado do teste obteve estatística suficiente para rejeitar a hipótese nula tanto nos primeiros dígitos, quanto para os segundos, indicando a possibilidade de fraude nas eleições presidenciais na Rússia em 2018."
      ],
      "metadata": {
        "id": "51k4d9FArhax"
      }
    },
    {
      "cell_type": "markdown",
      "source": [
        "><h2><strong>BRASIL</strong></h2>"
      ],
      "metadata": {
        "id": "7uD4AA40RQ7e"
      }
    },
    {
      "cell_type": "code",
      "source": [
        "df_brazil = pd.read_parquet('/content/drive/MyDrive/GitHub/benford-law/archive/eleicoes_brasil_turno1.parquet')\n",
        "df_brazil.head(3)\n"
      ],
      "metadata": {
        "colab": {
          "base_uri": "https://localhost:8080/",
          "height": 240
        },
        "id": "aYyiuvNRE030",
        "outputId": "135e6334-b306-4ae0-d965-39b7850ff50b"
      },
      "execution_count": 187,
      "outputs": [
        {
          "output_type": "execute_result",
          "data": {
            "text/plain": [
              "   ANO_ELEICAO                 NM_PARTIDO  \\\n",
              "0         2022  Partido dos Trabalhadores   \n",
              "1         2022  Partido dos Trabalhadores   \n",
              "2         2022          Democracia Cristã   \n",
              "\n",
              "                                    NM_CANDIDATO  NR_CANDIDATO  CD_CARGO  \\\n",
              "0  CARLA SIMARA LUCIANA DA SILVA SALASÁRIO AYRES          1344         6   \n",
              "1                      LIROUS K YO FONSECA ÁVILA          1303         6   \n",
              "2                           SILVIA LIMA FERREIRA         27373         7   \n",
              "\n",
              "            DS_CARGO  CD_TIPO_ELEICAO     NM_COLIGACAO  \\\n",
              "0   Deputado Federal                2        FEDERAÇÃO   \n",
              "1   Deputado Federal                2        FEDERAÇÃO   \n",
              "2  Deputado Estadual                2  PARTIDO ISOLADO   \n",
              "\n",
              "  NM_TIPO_DESTINACAO_VOTOS  QT_VOTOS_NOMINAIS_VALIDOS DS_SIT_TOT_TURNO  \n",
              "0                   Válido                          0         SUPLENTE  \n",
              "1                   Válido                          0         SUPLENTE  \n",
              "2                   Válido                          0       NÃO ELEITO  "
            ],
            "text/html": [
              "\n",
              "  <div id=\"df-9836750f-e9dc-45e3-b5e8-c7ca64034730\">\n",
              "    <div class=\"colab-df-container\">\n",
              "      <div>\n",
              "<style scoped>\n",
              "    .dataframe tbody tr th:only-of-type {\n",
              "        vertical-align: middle;\n",
              "    }\n",
              "\n",
              "    .dataframe tbody tr th {\n",
              "        vertical-align: top;\n",
              "    }\n",
              "\n",
              "    .dataframe thead th {\n",
              "        text-align: right;\n",
              "    }\n",
              "</style>\n",
              "<table border=\"1\" class=\"dataframe\">\n",
              "  <thead>\n",
              "    <tr style=\"text-align: right;\">\n",
              "      <th></th>\n",
              "      <th>ANO_ELEICAO</th>\n",
              "      <th>NM_PARTIDO</th>\n",
              "      <th>NM_CANDIDATO</th>\n",
              "      <th>NR_CANDIDATO</th>\n",
              "      <th>CD_CARGO</th>\n",
              "      <th>DS_CARGO</th>\n",
              "      <th>CD_TIPO_ELEICAO</th>\n",
              "      <th>NM_COLIGACAO</th>\n",
              "      <th>NM_TIPO_DESTINACAO_VOTOS</th>\n",
              "      <th>QT_VOTOS_NOMINAIS_VALIDOS</th>\n",
              "      <th>DS_SIT_TOT_TURNO</th>\n",
              "    </tr>\n",
              "  </thead>\n",
              "  <tbody>\n",
              "    <tr>\n",
              "      <th>0</th>\n",
              "      <td>2022</td>\n",
              "      <td>Partido dos Trabalhadores</td>\n",
              "      <td>CARLA SIMARA LUCIANA DA SILVA SALASÁRIO AYRES</td>\n",
              "      <td>1344</td>\n",
              "      <td>6</td>\n",
              "      <td>Deputado Federal</td>\n",
              "      <td>2</td>\n",
              "      <td>FEDERAÇÃO</td>\n",
              "      <td>Válido</td>\n",
              "      <td>0</td>\n",
              "      <td>SUPLENTE</td>\n",
              "    </tr>\n",
              "    <tr>\n",
              "      <th>1</th>\n",
              "      <td>2022</td>\n",
              "      <td>Partido dos Trabalhadores</td>\n",
              "      <td>LIROUS K YO FONSECA ÁVILA</td>\n",
              "      <td>1303</td>\n",
              "      <td>6</td>\n",
              "      <td>Deputado Federal</td>\n",
              "      <td>2</td>\n",
              "      <td>FEDERAÇÃO</td>\n",
              "      <td>Válido</td>\n",
              "      <td>0</td>\n",
              "      <td>SUPLENTE</td>\n",
              "    </tr>\n",
              "    <tr>\n",
              "      <th>2</th>\n",
              "      <td>2022</td>\n",
              "      <td>Democracia Cristã</td>\n",
              "      <td>SILVIA LIMA FERREIRA</td>\n",
              "      <td>27373</td>\n",
              "      <td>7</td>\n",
              "      <td>Deputado Estadual</td>\n",
              "      <td>2</td>\n",
              "      <td>PARTIDO ISOLADO</td>\n",
              "      <td>Válido</td>\n",
              "      <td>0</td>\n",
              "      <td>NÃO ELEITO</td>\n",
              "    </tr>\n",
              "  </tbody>\n",
              "</table>\n",
              "</div>\n",
              "      <button class=\"colab-df-convert\" onclick=\"convertToInteractive('df-9836750f-e9dc-45e3-b5e8-c7ca64034730')\"\n",
              "              title=\"Convert this dataframe to an interactive table.\"\n",
              "              style=\"display:none;\">\n",
              "        \n",
              "  <svg xmlns=\"http://www.w3.org/2000/svg\" height=\"24px\"viewBox=\"0 0 24 24\"\n",
              "       width=\"24px\">\n",
              "    <path d=\"M0 0h24v24H0V0z\" fill=\"none\"/>\n",
              "    <path d=\"M18.56 5.44l.94 2.06.94-2.06 2.06-.94-2.06-.94-.94-2.06-.94 2.06-2.06.94zm-11 1L8.5 8.5l.94-2.06 2.06-.94-2.06-.94L8.5 2.5l-.94 2.06-2.06.94zm10 10l.94 2.06.94-2.06 2.06-.94-2.06-.94-.94-2.06-.94 2.06-2.06.94z\"/><path d=\"M17.41 7.96l-1.37-1.37c-.4-.4-.92-.59-1.43-.59-.52 0-1.04.2-1.43.59L10.3 9.45l-7.72 7.72c-.78.78-.78 2.05 0 2.83L4 21.41c.39.39.9.59 1.41.59.51 0 1.02-.2 1.41-.59l7.78-7.78 2.81-2.81c.8-.78.8-2.07 0-2.86zM5.41 20L4 18.59l7.72-7.72 1.47 1.35L5.41 20z\"/>\n",
              "  </svg>\n",
              "      </button>\n",
              "      \n",
              "  <style>\n",
              "    .colab-df-container {\n",
              "      display:flex;\n",
              "      flex-wrap:wrap;\n",
              "      gap: 12px;\n",
              "    }\n",
              "\n",
              "    .colab-df-convert {\n",
              "      background-color: #E8F0FE;\n",
              "      border: none;\n",
              "      border-radius: 50%;\n",
              "      cursor: pointer;\n",
              "      display: none;\n",
              "      fill: #1967D2;\n",
              "      height: 32px;\n",
              "      padding: 0 0 0 0;\n",
              "      width: 32px;\n",
              "    }\n",
              "\n",
              "    .colab-df-convert:hover {\n",
              "      background-color: #E2EBFA;\n",
              "      box-shadow: 0px 1px 2px rgba(60, 64, 67, 0.3), 0px 1px 3px 1px rgba(60, 64, 67, 0.15);\n",
              "      fill: #174EA6;\n",
              "    }\n",
              "\n",
              "    [theme=dark] .colab-df-convert {\n",
              "      background-color: #3B4455;\n",
              "      fill: #D2E3FC;\n",
              "    }\n",
              "\n",
              "    [theme=dark] .colab-df-convert:hover {\n",
              "      background-color: #434B5C;\n",
              "      box-shadow: 0px 1px 3px 1px rgba(0, 0, 0, 0.15);\n",
              "      filter: drop-shadow(0px 1px 2px rgba(0, 0, 0, 0.3));\n",
              "      fill: #FFFFFF;\n",
              "    }\n",
              "  </style>\n",
              "\n",
              "      <script>\n",
              "        const buttonEl =\n",
              "          document.querySelector('#df-9836750f-e9dc-45e3-b5e8-c7ca64034730 button.colab-df-convert');\n",
              "        buttonEl.style.display =\n",
              "          google.colab.kernel.accessAllowed ? 'block' : 'none';\n",
              "\n",
              "        async function convertToInteractive(key) {\n",
              "          const element = document.querySelector('#df-9836750f-e9dc-45e3-b5e8-c7ca64034730');\n",
              "          const dataTable =\n",
              "            await google.colab.kernel.invokeFunction('convertToInteractive',\n",
              "                                                     [key], {});\n",
              "          if (!dataTable) return;\n",
              "\n",
              "          const docLinkHtml = 'Like what you see? Visit the ' +\n",
              "            '<a target=\"_blank\" href=https://colab.research.google.com/notebooks/data_table.ipynb>data table notebook</a>'\n",
              "            + ' to learn more about interactive tables.';\n",
              "          element.innerHTML = '';\n",
              "          dataTable['output_type'] = 'display_data';\n",
              "          await google.colab.output.renderOutput(dataTable, element);\n",
              "          const docLink = document.createElement('div');\n",
              "          docLink.innerHTML = docLinkHtml;\n",
              "          element.appendChild(docLink);\n",
              "        }\n",
              "      </script>\n",
              "    </div>\n",
              "  </div>\n",
              "  "
            ]
          },
          "metadata": {},
          "execution_count": 187
        }
      ]
    },
    {
      "cell_type": "code",
      "source": [
        "column = 'QT_VOTOS_NOMINAIS_VALIDOS'\n",
        "df_lula = df_brazil.loc[df_brazil.NM_CANDIDATO.str.contains(\"LUIZ INÁCIO LULA DA SILVA\"),[column]]\n",
        "df_bolsonaro = df_brazil.loc[df_brazil.NM_CANDIDATO.str.contains(\"BOLSONARO\"),[column]]\n"
      ],
      "metadata": {
        "id": "oa5k-r23vNxL"
      },
      "execution_count": 188,
      "outputs": []
    },
    {
      "cell_type": "markdown",
      "source": [
        "**Digitos**"
      ],
      "metadata": {
        "id": "gebaTqu0uueR"
      }
    },
    {
      "cell_type": "code",
      "source": [
        "bolsonaro_first_d = pd.Series(df_bolsonaro[column].apply(lambda x: int(str(x)[0])),name='d_first')\n",
        "bolsonaro_second_d = pd.Series(df_bolsonaro.loc[df_bolsonaro[column]>=10,column].apply(lambda x: int(str(x)[1])),name='d_second')\n",
        "\n",
        "lula_first_d = pd.Series(df_lula[column].apply(lambda x: int(str(x)[0])),name='d_first')\n",
        "lula_second_d = pd.Series(df_lula.loc[df_lula[column]>=10,column].apply(lambda x: int(str(x)[1])),name='d_second')\n"
      ],
      "metadata": {
        "id": "pi8Dk9wrNhFV"
      },
      "execution_count": 189,
      "outputs": []
    },
    {
      "cell_type": "markdown",
      "source": [
        "**Benford**"
      ],
      "metadata": {
        "id": "CyTewTMIu8Gw"
      }
    },
    {
      "cell_type": "markdown",
      "source": [
        "\n",
        "Pode-se reparar nos gráficos dos dois candidatos mais votados no Brasil que que as duas distribuições para o primeiro dígito seguem as frequências de Benford, indicando que não houve fraude no ano vigente desta eleição.\n"
      ],
      "metadata": {
        "id": "BbJS3CuxtEcX"
      }
    },
    {
      "cell_type": "code",
      "source": [
        "#TOTAL\n",
        "\n",
        "observed_p_1_lula, expected_p_1_lula = newcomb_benford(lula_first_d,percent = True)\n",
        "observed_p_1_bol , expected_p_1_bol = newcomb_benford(bolsonaro_first_d,percent = True)\n",
        "\n",
        "x = np.arange(1,10)\n",
        "fig, ax  = plt.subplots(1,2,figsize=(15,5))\n",
        "ax[0].plot(x,expected_p_1_lula,color='red',marker='o',label='esperado (benford)')\n",
        "ax[0].bar(x,observed_p_1_lula,color='#4682B4',label='observado')\n",
        "ax[0].set_title('Newcomb-Benford primeiro digito, Eleições Brasil 1° turno (Lula)')\n",
        "ax[0].set_ylabel('Frequencia(%)')\n",
        "ax[0].set_xlabel('Digito')\n",
        "ax[0].set_xticks(x)\n",
        "ax[0].set_yticklabels(np.round(ax[0].get_yticks(),2), weight='bold')\n",
        "ax[0].set_xticklabels(ax[0].get_xticks(),  weight='bold')\n",
        "ax[0].legend()\n",
        "\n",
        "ax[1].plot(x,expected_p_1_bol,color='red',marker='o',label='esperado (benford)')\n",
        "ax[1].bar(x,observed_p_1_bol,color='#4682B4',label='observado')\n",
        "ax[1].set_title('Newcomb-Benford primeiro digito, Eleições Brasil 1° turno (Bolsonaro)')\n",
        "ax[1].set_ylabel('Frequencia(%)')\n",
        "ax[1].set_xlabel('Digito')\n",
        "ax[1].set_xticks(x)\n",
        "ax[1].set_yticklabels(np.round(ax[1].get_yticks(),2), weight='bold')\n",
        "ax[1].set_xticklabels(ax[1].get_xticks(),  weight='bold')\n",
        "ax[1].legend()\n",
        "\n",
        "\n",
        "fig.tight_layout()"
      ],
      "metadata": {
        "id": "XiD-InTTNDLE",
        "colab": {
          "base_uri": "https://localhost:8080/",
          "height": 369
        },
        "outputId": "bd793215-3d85-4e3b-85c2-cbfd7e749a89"
      },
      "execution_count": 190,
      "outputs": [
        {
          "output_type": "display_data",
          "data": {
            "text/plain": [
              "<Figure size 1080x360 with 2 Axes>"
            ],
            "image/png": "[encoded data removed]"
          },
          "metadata": {}
        }
      ]
    },
    {
      "cell_type": "markdown",
      "source": [
        "Já para o segundo dígito as frequências observadas atendem as frequências do modelo de Benford."
      ],
      "metadata": {
        "id": "TsxNAS4Vo44p"
      }
    },
    {
      "cell_type": "code",
      "source": [
        "#TOTAL\n",
        "\n",
        "observed_p_2_lula, expected_p_2_lula = newcomb_benford(lula_second_d,percent = True,ddof = 9,digit=2)\n",
        "observed_p_2_bol , expected_p_2_bol = newcomb_benford(bolsonaro_second_d,percent = True,ddof = 9,digit=2)\n",
        "\n",
        "x = np.arange(0,10)\n",
        "fig, ax  = plt.subplots(1,2,figsize=(15,5))\n",
        "ax[0].plot(x,expected_p_2_lula,color='red',marker='o',label='esperado (benford)')\n",
        "ax[0].bar(x,observed_p_2_lula,color='#4682B4',label='observado')\n",
        "ax[0].set_title('Newcomb-Benford segundo digito, Eleições Brasil 1° turno (Lula)')\n",
        "ax[0].set_ylabel('Frequencia(%)')\n",
        "ax[0].set_xlabel('Digito')\n",
        "ax[0].set_xticks(x)\n",
        "ax[0].set_yticklabels(np.round(ax[0].get_yticks(),2), weight='bold')\n",
        "ax[0].set_xticklabels(ax[0].get_xticks(),  weight='bold')\n",
        "ax[0].legend()\n",
        "\n",
        "ax[1].plot(x,expected_p_2_bol,color='red',marker='o',label='esperado (benford)')\n",
        "ax[1].bar(x,observed_p_2_bol,color='#4682B4',label='observado')\n",
        "ax[1].set_title('Newcomb-Benford segundo digito, Eleições Brasil 1° turno (Bolsonaro)')\n",
        "ax[1].set_ylabel('Frequencia(%)')\n",
        "ax[1].set_xlabel('Digito')\n",
        "ax[1].set_xticks(x)\n",
        "ax[1].set_yticklabels(np.round(ax[1].get_yticks(),2), weight='bold')\n",
        "ax[1].set_xticklabels(ax[1].get_xticks(),  weight='bold')\n",
        "ax[1].legend()\n",
        "\n",
        "fig.tight_layout()"
      ],
      "metadata": {
        "colab": {
          "base_uri": "https://localhost:8080/",
          "height": 369
        },
        "id": "ffMIoLc9hd_l",
        "outputId": "94ce86e2-339e-4627-d093-14163505e9f2"
      },
      "execution_count": 191,
      "outputs": [
        {
          "output_type": "display_data",
          "data": {
            "text/plain": [
              "<Figure size 1080x360 with 2 Axes>"
            ],
            "image/png": "[encoded data removed]"
          },
          "metadata": {}
        }
      ]
    },
    {
      "cell_type": "markdown",
      "source": [
        ">**Teste de hipótese**"
      ],
      "metadata": {
        "id": "9BNXk6o1tkxk"
      }
    },
    {
      "cell_type": "markdown",
      "source": [
        "Realizando o teste de hipótese foi observado que nenhuma das distribuições (sejam dos primeiros ou dos segundos dígitos) dos dois candidatos à presidência do país obteve uma estatística significante para rejeitar a hipótese nula, sendo assim podemos inferir que não houveram fraudes nas votações."
      ],
      "metadata": {
        "id": "K9M1iI_ptqVE"
      }
    },
    {
      "cell_type": "code",
      "source": [
        "# AMOSTRAGEM\n",
        "amostras_lula_1 = pd.DataFrame()\n",
        "amostras_lula_2 = pd.DataFrame()\n",
        "\n",
        "amostras_bolsonaro_1 = pd.DataFrame()\n",
        "amostras_bolsonaro_2 = pd.DataFrame()\n",
        "\n",
        "amostras_lula_1 = pd.concat([lula_first_d.sample(n_chi).reset_index(drop=True) for _ in range(total_amostras)],axis=1,ignore_index=True)\n",
        "amostras_lula_2 = pd.concat([lula_second_d.sample(n_chi).reset_index(drop=True) for _ in range(total_amostras)],axis=1,ignore_index=True)\n",
        "\n",
        "\n",
        "amostras_bolsonaro_1 = pd.concat([bolsonaro_first_d.sample(n_chi).reset_index(drop=True) for _ in range(total_amostras)],axis=1,ignore_index=True)\n",
        "amostras_bolsonaro_2 = pd.concat([bolsonaro_second_d.sample(n_chi).reset_index(drop=True) for _ in range(total_amostras)],axis=1,ignore_index=True)"
      ],
      "metadata": {
        "id": "ecmlI9gT--7Q"
      },
      "execution_count": 192,
      "outputs": []
    },
    {
      "cell_type": "code",
      "source": [
        "# TESTE DE QUI QUADRADO\n",
        "chi_lula = amostras_lula_1.apply(lambda amostra:newcomb_benford(amostra,chi_test = True)[0]).mean()\n",
        "\n",
        "chi_bolsonaro = amostras_bolsonaro_1.apply(lambda amostra:newcomb_benford(amostra,chi_test = True)[0]).mean()\n",
        "\n",
        "print(f\"\"\"\n",
        "BENFORD LAW - PRIMEIRO DIGITO\n",
        "\n",
        "\n",
        "  LULA: \n",
        "  statistic = {chi_lula} \n",
        "  pvalue = {chi2.sf(x=chi_lula ,df=8)}\n",
        "\n",
        "  BOLSONARO: \n",
        "  statistic = {chi_bolsonaro} \n",
        "  pvalue = {chi2.sf(x=chi_bolsonaro ,df=8)}\n",
        "  \n",
        "CRITICAL VALUE = {valor_critico_chi_1} PARA PVALUE=0.05 \n",
        "\"\"\")"
      ],
      "metadata": {
        "colab": {
          "base_uri": "https://localhost:8080/",
          "height": 0
        },
        "id": "6rfRfPXMCj0b",
        "outputId": "34d2848b-9607-4936-a285-10825c9b9bf9"
      },
      "execution_count": 193,
      "outputs": [
        {
          "output_type": "stream",
          "name": "stdout",
          "text": [
            "\n",
            "BENFORD LAW - PRIMEIRO DIGITO\n",
            "\n",
            "\n",
            "  LULA: \n",
            "  statistic = 8.705709242333333 \n",
            "  pvalue = 0.3677269367796664\n",
            "\n",
            "  BOLSONARO: \n",
            "  statistic = 8.893765666209067 \n",
            "  pvalue = 0.35133694352492756\n",
            "  \n",
            "CRITICAL VALUE = 15.50731305586545 PARA PVALUE=0.05 \n",
            "\n"
          ]
        }
      ]
    },
    {
      "cell_type": "code",
      "source": [
        "# TESTE DE QUI QUADRADO\n",
        "chi_lula = amostras_lula_2.apply(lambda amostra:newcomb_benford(amostra,chi_test = True,ddof = 9,digit=2)[0]).mean()\n",
        "\n",
        "chi_bolsonaro = amostras_bolsonaro_2.apply(lambda amostra:newcomb_benford(amostra,chi_test = True,ddof = 9,digit=2)[0]).mean()\n",
        "\n",
        "print(f\"\"\"\n",
        "BENFORD LAW - SEGUNDO DIGITO\n",
        "\n",
        "\n",
        "  LULA: \n",
        "  statistic = {chi_lula} \n",
        "  pvalue = {chi2.sf(x=chi_lula ,df=9)}\n",
        "\n",
        "  BOLSONARO: \n",
        "  statistic = {chi_bolsonaro} \n",
        "  pvalue = {chi2.sf(x=chi_bolsonaro ,df=9)}\n",
        "  \n",
        "CRITICAL VALUE = {valor_critico_chi_2} PARA PVALUE=0.05 \n",
        "\"\"\")"
      ],
      "metadata": {
        "colab": {
          "base_uri": "https://localhost:8080/",
          "height": 0
        },
        "id": "54tuZo0ugeQ6",
        "outputId": "9f5a28d0-5b87-424b-abea-8ad73efb6860"
      },
      "execution_count": 194,
      "outputs": [
        {
          "output_type": "stream",
          "name": "stdout",
          "text": [
            "\n",
            "BENFORD LAW - SEGUNDO DIGITO\n",
            "\n",
            "\n",
            "  LULA: \n",
            "  statistic = 9.553554100268496 \n",
            "  pvalue = 0.38782011650886045\n",
            "\n",
            "  BOLSONARO: \n",
            "  statistic = 10.338260591317866 \n",
            "  pvalue = 0.3238014477955585\n",
            "  \n",
            "CRITICAL VALUE = 16.918977604620448 PARA PVALUE=0.05 \n",
            "\n"
          ]
        }
      ]
    },
    {
      "cell_type": "markdown",
      "source": [
        "**CONCLUSÃO**\n",
        "\n",
        "Neste tutorial foi demonstrado como aplicar o modelo de Benford às votações eleitorais e realizar conclusões acerca da existência de fraude nesses dados utilizando o modelo de Benford, teste de hipótese e amostragem."
      ],
      "metadata": {
        "id": "ffxgylmB5rJO"
      }
    },
    {
      "cell_type": "markdown",
      "source": [
        "**REFERÊNCIAS**\n",
        "\n",
        "- Simon Newcomb, Note on the Frequency of Use of the Different Digits in Natural Numbers, American Journal of Mathematics 4 (1881) 39-40\n",
        "\n",
        "- Frank Benford, The law of anomalous numbers, Proceedings of the American Philospphical Society 78 (1938) 551-572\n",
        "\n",
        "- Daniel Bergh, Chi-Squared Test of Fit and Sample Size—\n",
        "A Comparison between a Random Sample Approach\n",
        "and a Chi-Square Value Adjustment Method\n",
        "\n",
        "- https://pt.wikipedia.org/wiki/Lei_de_Benford\n",
        "\n",
        "- https://www.tse.jus.br/comunicacao/noticias/2022/Maio/fato-ou-boato-e-mentira-que-lei-de-benford-provou-fraude-nas-eleicoes-brasileiras\n",
        "\n",
        "\n"
      ],
      "metadata": {
        "id": "iP8sKaFaIjQy"
      }
    },
    {
      "cell_type": "markdown",
      "source": [
        "**BASES DE DADOS UTILIZADAS**\n",
        "\n",
        "- https://www.kaggle.com/datasets/valenzione/russian-presidental-elections-2018-voting-data\n",
        "- https://dadosabertos.tse.jus.br/dataset/resultados-2022"
      ],
      "metadata": {
        "id": "pb7Ti8y1HKvg"
      }
    }
  ]
}